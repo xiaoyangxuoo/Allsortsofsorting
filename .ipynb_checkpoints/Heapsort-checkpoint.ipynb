{
 "cells": [
  {
   "cell_type": "code",
   "execution_count": 5,
   "metadata": {},
   "outputs": [],
   "source": []
  },
  {
   "cell_type": "code",
   "execution_count": 6,
   "metadata": {},
   "outputs": [
    {
     "name": "stdout",
     "output_type": "stream",
     "text": [
      "13\n"
     ]
    }
   ],
   "source": [
    "s = 'aaabbbduasiofjuiasoyuuuuuucccca'\n",
    "sec_ctn = 0\n",
    "if s[0]==s[-1]:\n",
    "    sec_ctn += 1\n",
    "#sec_ctn = 1\n",
    "for i in range(len(s)-1):    \n",
    "    if s[i] == s[i+1]:\n",
    "        sec_ctn += 1       \n",
    "        \n",
    "print(sec_ctn)\n",
    "        \n",
    "        \n",
    "        \n",
    "    "
   ]
  },
  {
   "cell_type": "code",
   "execution_count": 13,
   "metadata": {},
   "outputs": [
    {
     "name": "stdout",
     "output_type": "stream",
     "text": [
      "5\n"
     ]
    }
   ],
   "source": [
    "lst = [1,2,2,1,2,1,5,2,1]\n",
    "lst.sort()\n",
    "L = len(lst)\n",
    "new_lst = [0 for i in lst]\n",
    "for i in range(len(lst)):\n",
    "    if new_lst[i] ==1:\n",
    "        continue\n",
    "    for j in range(i+1,len(lst)):\n",
    "        if new_lst[j] == 1:\n",
    "            continue\n",
    "        if lst[j] >= lst[i] * 2:\n",
    "            L -= 1\n",
    "            new_lst[i], new_lst[j] = 1, 1\n",
    "            break\n",
    "print(L)           \n"
   ]
  },
  {
   "cell_type": "code",
   "execution_count": 24,
   "metadata": {},
   "outputs": [
    {
     "name": "stdout",
     "output_type": "stream",
     "text": [
      "7\n"
     ]
    }
   ],
   "source": [
    "arr = [1,1,1,1,1,1,1]\n",
    "person = 7\n",
    "arr.sort()\n",
    "result = 0\n",
    "for ele in set(arr):\n",
    "    if arr.count(ele) > result:\n",
    "        result = arr.count(ele)       \n",
    "for i in range(len(arr)):\n",
    "    for j in range(i,len(arr)):\n",
    "        sum_ = 0\n",
    "        for ele in arr[i:j+1]:\n",
    "            sum_ += arr[j] - ele            \n",
    "        if sum_ <= person:\n",
    "            result  = max(result,len(arr[i:j+1]))\n",
    "print(result)\n",
    "            \n",
    "    "
   ]
  },
  {
   "cell_type": "code",
   "execution_count": 8,
   "metadata": {},
   "outputs": [
    {
     "data": {
      "text/plain": [
       "['64630',\n",
       " '11735',\n",
       " '14216',\n",
       " '99233',\n",
       " '14470',\n",
       " '4978',\n",
       " '73429',\n",
       " '38120',\n",
       " '51135',\n",
       " '67060']"
      ]
     },
     "execution_count": 8,
     "metadata": {},
     "output_type": "execute_result"
    }
   ],
   "source": [
    "Xlist"
   ]
  },
  {
   "cell_type": "code",
   "execution_count": 15,
   "metadata": {},
   "outputs": [
    {
     "data": {
      "text/plain": [
       "14"
      ]
     },
     "execution_count": 15,
     "metadata": {},
     "output_type": "execute_result"
    }
   ],
   "source": [
    "YU = [1,2,2,6,1,1,1,1,1,1,1,1,1,1,1,1,1]\n",
    "YU.count(1)"
   ]
  },
  {
   "cell_type": "code",
   "execution_count": 13,
   "metadata": {},
   "outputs": [
    {
     "data": {
      "text/plain": [
       "[64630, 11735, 14216, 99233, 14470, 4978, 73429, 38120, 51135, 67060]"
      ]
     },
     "execution_count": 13,
     "metadata": {},
     "output_type": "execute_result"
    }
   ],
   "source": [
    "Xlist"
   ]
  },
  {
   "cell_type": "code",
   "execution_count": 14,
   "metadata": {},
   "outputs": [
    {
     "name": "stdout",
     "output_type": "stream",
     "text": [
      "[64630, 11735, 14216, 99233, 14470, 4978, 73429, 38120, 51135, 67060]\n"
     ]
    }
   ],
   "source": [
    "print(Xlist)"
   ]
  },
  {
   "cell_type": "code",
   "execution_count": 15,
   "metadata": {},
   "outputs": [],
   "source": [
    "Mean = sum(Xlist) / len(Xlist)"
   ]
  },
  {
   "cell_type": "code",
   "execution_count": 16,
   "metadata": {},
   "outputs": [
    {
     "name": "stdout",
     "output_type": "stream",
     "text": [
      "43900.6\n"
     ]
    }
   ],
   "source": [
    "print(Mean)"
   ]
  },
  {
   "cell_type": "code",
   "execution_count": 18,
   "metadata": {},
   "outputs": [],
   "source": [
    "if N % 2 == 0:\n",
    "    Median = (Xlist[int(N/2)-1] + Xlist[int(N/2)])/2\n",
    "else:\n",
    "    Median = Xlist[int(N/2)-1]"
   ]
  },
  {
   "cell_type": "code",
   "execution_count": 19,
   "metadata": {},
   "outputs": [
    {
     "name": "stdout",
     "output_type": "stream",
     "text": [
      "39203.5\n"
     ]
    }
   ],
   "source": [
    "print(Median)"
   ]
  },
  {
   "cell_type": "code",
   "execution_count": 20,
   "metadata": {},
   "outputs": [
    {
     "data": {
      "text/plain": [
       "4978"
      ]
     },
     "execution_count": 20,
     "metadata": {},
     "output_type": "execute_result"
    }
   ],
   "source": [
    "Xlist[int(N/2)]"
   ]
  },
  {
   "cell_type": "code",
   "execution_count": 21,
   "metadata": {},
   "outputs": [
    {
     "data": {
      "text/plain": [
       "5"
      ]
     },
     "execution_count": 21,
     "metadata": {},
     "output_type": "execute_result"
    }
   ],
   "source": [
    "int(N/2)"
   ]
  },
  {
   "cell_type": "code",
   "execution_count": 22,
   "metadata": {},
   "outputs": [
    {
     "data": {
      "text/plain": [
       "[64630, 11735, 14216, 99233, 14470, 4978, 73429, 38120, 51135, 67060]"
      ]
     },
     "execution_count": 22,
     "metadata": {},
     "output_type": "execute_result"
    }
   ],
   "source": [
    "Xlist"
   ]
  },
  {
   "cell_type": "code",
   "execution_count": 23,
   "metadata": {},
   "outputs": [],
   "source": [
    "Xlist.sort()"
   ]
  },
  {
   "cell_type": "code",
   "execution_count": 24,
   "metadata": {},
   "outputs": [
    {
     "data": {
      "text/plain": [
       "[4978, 11735, 14216, 14470, 38120, 51135, 64630, 67060, 73429, 99233]"
      ]
     },
     "execution_count": 24,
     "metadata": {},
     "output_type": "execute_result"
    }
   ],
   "source": [
    "Xlist"
   ]
  },
  {
   "cell_type": "code",
   "execution_count": 28,
   "metadata": {},
   "outputs": [
    {
     "data": {
      "text/plain": [
       "44627.5"
      ]
     },
     "execution_count": 28,
     "metadata": {},
     "output_type": "execute_result"
    }
   ],
   "source": [
    "(Xlist[int(N/2)-1] + Xlist[int(N/2)])/2"
   ]
  },
  {
   "cell_type": "code",
   "execution_count": null,
   "metadata": {},
   "outputs": [],
   "source": []
  }
 ],
 "metadata": {
  "kernelspec": {
   "display_name": "Python 3",
   "language": "python",
   "name": "python3"
  },
  "language_info": {
   "codemirror_mode": {
    "name": "ipython",
    "version": 3
   },
   "file_extension": ".py",
   "mimetype": "text/x-python",
   "name": "python",
   "nbconvert_exporter": "python",
   "pygments_lexer": "ipython3",
   "version": "3.7.7"
  }
 },
 "nbformat": 4,
 "nbformat_minor": 4
}
