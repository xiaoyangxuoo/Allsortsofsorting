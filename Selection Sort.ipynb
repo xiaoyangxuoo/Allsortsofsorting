{
 "cells": [
  {
   "cell_type": "code",
   "execution_count": null,
   "metadata": {},
   "outputs": [],
   "source": [
    "#We've written the function, sort_with_select, below. It takes\n",
    "#in one list parameter, a_list. Our version of selection sort\n",
    "#involves finding the minimum value and moving it to an\n",
    "#earlier spot in the list.\n",
    "#\n",
    "#However, some lines of code are blank. Complete these lines\n",
    "#to complete the selection_sort function. You should only need\n",
    "#to modify the section marked 'Write your code here!'\n",
    "\n",
    "def sort_with_select(a_list):\n",
    "    \n",
    "    #For each index in the list...\n",
    "    for i in range(len(a_list)):\n",
    "        \n",
    "        #Assume first that current item is already correct...\n",
    "        minIndex = i\n",
    "\n",
    "        #For each index from i to the end...\n",
    "        for j in range(i + 1, len(a_list)):\n",
    "            \n",
    "            #Complete the reasoning of this conditional to\n",
    "            #complete the algorithm! Remember, the goal is\n",
    "            #to find the lowest item in the list between\n",
    "            #index i and the end of the list, and store its\n",
    "            #index in the variable minIndex.\n",
    "            #\n",
    "            #Write your code here\n",
    "            if a_list[j]<a_list[minIndex]:\n",
    "                minIndex = j\n",
    "\n",
    "        #Save the current minimum value since we're about\n",
    "        #to delete it\n",
    "        minValue = a_list[minIndex]\n",
    "        \n",
    "        #Delete the minimum value from its current index\n",
    "        del a_list[minIndex]\n",
    "        \n",
    "        #Insert the minimum value at its new index\n",
    "        a_list.insert(i, minValue)\n",
    "    \n",
    "    #Return the resultant list\n",
    "    return a_list\n",
    "\t\n",
    "\n",
    "#Below are some lines of code that will test your function.\n",
    "#You can change the value of the variable(s) to test your\n",
    "#function with different inputs.\n",
    "#\n",
    "#If your function works correctly, this will originally\n",
    "#print: [1, 2, 3, 4, 5]\n",
    "print(sort_with_select([5, 3, 1, 2, 4]))\n",
    "\n",
    "\n"
   ]
  }
 ],
 "metadata": {
  "kernelspec": {
   "display_name": "Python 3",
   "language": "python",
   "name": "python3"
  },
  "language_info": {
   "codemirror_mode": {
    "name": "ipython",
    "version": 3
   },
   "file_extension": ".py",
   "mimetype": "text/x-python",
   "name": "python",
   "nbconvert_exporter": "python",
   "pygments_lexer": "ipython3",
   "version": "3.7.7"
  }
 },
 "nbformat": 4,
 "nbformat_minor": 4
}
